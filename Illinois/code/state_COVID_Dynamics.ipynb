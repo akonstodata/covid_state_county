{
 "cells": [
  {
   "cell_type": "markdown",
   "metadata": {},
   "source": [
    "### Modeling and visualizing dynamics of state COVID cases \n",
    "\n",
    "#### Anna Konstorum (konstorum.anna@gmail.com)"
   ]
  },
  {
   "cell_type": "code",
   "execution_count": 1,
   "metadata": {
    "collapsed": true
   },
   "outputs": [],
   "source": [
    "# import packages\n",
    "import datetime\n",
    "import os\n",
    "import matplotlib.pyplot as plt\n",
    "from scipy.optimize import curve_fit\n",
    "import seaborn as sns\n",
    "import pandas as pd\n",
    "import numpy as np\n",
    "import seaborn as sns\n",
    "from matplotlib.lines import Line2D\n",
    "%matplotlib inline"
   ]
  },
  {
   "cell_type": "code",
   "execution_count": 2,
   "metadata": {
    "collapsed": false,
    "scrolled": true
   },
   "outputs": [
    {
     "name": "stdout",
     "output_type": "stream",
     "text": [
      "Last updated: 2020-04-24\n"
     ]
    }
   ],
   "source": [
    "print(f'Last updated: {datetime.date.today()}')"
   ]
  },
  {
   "cell_type": "code",
   "execution_count": 4,
   "metadata": {
    "collapsed": true
   },
   "outputs": [],
   "source": [
    "# local directory to save figures if using"
   ]
  },
  {
   "cell_type": "code",
   "execution_count": 5,
   "metadata": {
    "collapsed": true
   },
   "outputs": [],
   "source": [
    "# import latest state data\n",
    "url='https://covidtracking.com/api/states/daily.csv'\n",
    "state_data=pd.read_csv(url,sep=',',header='infer', parse_dates=[0])"
   ]
  },
  {
   "cell_type": "code",
   "execution_count": 6,
   "metadata": {
    "collapsed": true
   },
   "outputs": [],
   "source": [
    "# create exponential function to model \n",
    "# will add additional functions shortly\n",
    "\n",
    "def exp_func(x, a, b, c):\n",
    "    return a * np.exp(b * x) + c\n",
    "\n",
    "def quad_func(x,a,b,c):\n",
    "    return a*x**2 +b*x+c\n",
    "\n",
    "def lin_func(x,a,b):\n",
    "    return a*x + b"
   ]
  },
  {
   "cell_type": "code",
   "execution_count": 7,
   "metadata": {
    "collapsed": true
   },
   "outputs": [],
   "source": [
    "def SSE_curve(x,y,fxn):\n",
    "    popt,pop = curve_fit(fxn,x,y)\n",
    "    y_exp= fxn(x, *popt)\n",
    "    SSE = sum((y-y_exp)**2)\n",
    "    return popt,SSE"
   ]
  },
  {
   "cell_type": "code",
   "execution_count": 17,
   "metadata": {
    "collapsed": false
   },
   "outputs": [],
   "source": [
    "states=pd.Series(state_data[\"state\"].value_counts())\n",
    "states=list(states.index)"
   ]
  },
  {
   "cell_type": "code",
   "execution_count": 21,
   "metadata": {
    "collapsed": false
   },
   "outputs": [],
   "source": [
    "states_data=[]\n",
    "\n",
    "#filter for states\n",
    "for state in states:\n",
    "    state_df = state_data[state_data[\"state\"]==state]\n",
    "    state_df=state_df.sort_values(by=\"date\")\n",
    "    state_df.reset_index(inplace=True,drop=True)\n",
    "    states_data.append(state_df)"
   ]
  },
  {
   "cell_type": "code",
   "execution_count": null,
   "metadata": {
    "collapsed": true
   },
   "outputs": [],
   "source": [
    "'''\n",
    "For each state:\n",
    "(1) Get min date and max date for full and for each state\n",
    "(2) Model for min date + 10 to max date\n",
    "(3) Use x-axis: min an dmax for full\n",
    "(4) For each state: draw color line corresponding to model \n",
    "'''"
   ]
  },
  {
   "cell_type": "code",
   "execution_count": null,
   "metadata": {
    "collapsed": false
   },
   "outputs": [],
   "source": [
    "# date range of the graph\n",
    "start_date = min(IL_data['date'])\n",
    "end_date = max(IL_data['date'])\n",
    "next_date=end_date+datetime.timedelta(days=1)\n",
    "\n",
    "print(f'Data from {start_date.strftime(\"%Y-%m-%d\")} to {end_date.strftime(\"%Y-%m-%d\")}')"
   ]
  },
  {
   "cell_type": "code",
   "execution_count": null,
   "metadata": {
    "collapsed": false
   },
   "outputs": [],
   "source": [
    "# Textual date for labels\n",
    "tomorrow_label = (end_date + datetime.timedelta(days=1)).strftime('%m/%d')\n",
    "next2_label = (end_date + datetime.timedelta(days=2)).strftime('%m/%d')\n",
    "next3_label = (end_date + datetime.timedelta(days=3)).strftime('%m/%d')\n",
    "\n",
    "# get current date range\n",
    "date_range=pd.date_range(start=start_date, end=end_date)\n",
    "date_range_plus=pd.date_range(start=start_date,end=next_date)\n",
    "\n",
    "# output date range as list\n",
    "dates = [date.strftime('%m/%d') for date in date_range_plus]"
   ]
  },
  {
   "cell_type": "code",
   "execution_count": null,
   "metadata": {
    "collapsed": false
   },
   "outputs": [],
   "source": [
    "print(dates[-1])"
   ]
  },
  {
   "cell_type": "code",
   "execution_count": null,
   "metadata": {
    "collapsed": false
   },
   "outputs": [],
   "source": [
    "# Get fraction of deaths\n",
    "d_frac_df = pd.DataFrame(index=IL_data.index[13:],columns=['d_frac'])\n",
    "d_frac_df['date'] = IL_data[\"date\"][13:]\n",
    "for i in IL_data.index[13:]:\n",
    "    d = IL_data.iloc[i]['death']\n",
    "    p = IL_data.iloc[i]['positive']\n",
    "    d_frac = float(\"{:.4f}\".format(d/p))\n",
    "    d_frac_df.loc[i,'d_frac']=d_frac*100"
   ]
  },
  {
   "cell_type": "code",
   "execution_count": null,
   "metadata": {
    "collapsed": false
   },
   "outputs": [],
   "source": [
    "# model fit for positive cases\n",
    "xdata=np.array(IL_data.index)[-10:]\n",
    "\n",
    "data_to_model=[\"positive\"]\n",
    "model_results=pd.DataFrame(index=data_to_model,columns=['a','b','c'])\n",
    "xdata=np.array(IL_data.index)[-10:]\n",
    "for item in data_to_model:\n",
    "    ydata=np.array(IL_data[item])[-10:]\n",
    "    \n",
    "    popt_quad,SSE_quad = SSE_curve(xdata,ydata,quad_func)\n",
    "    popt_lin,SSE_lin = SSE_curve(xdata,ydata,lin_func)\n",
    "    \n",
    "    quad_lin_diff=((SSE_lin/SSE_quad)-1)*100\n",
    "    \n",
    "    if quad_lin_diff<5:\n",
    "        no_quad=1\n",
    "    else:\n",
    "        no_quad=0   \n",
    "    \n",
    "    try:\n",
    "        popt_exp, SSE_exp = SSE_curve(xdata,ydata,exp_func)\n",
    "        min_error=min(SSE_exp,SSE_quad,SSE_lin)\n",
    "    except:\n",
    "        min_error=min(SSE_quad,SSE_lin)\n",
    "    \n",
    "    if (min_error==SSE_quad) and (no_quad==1):\n",
    "        min_error=SSE_lin\n",
    "    \n",
    "    if min_error == SSE_quad:\n",
    "        model_results.loc[item,['a','b','c']]=popt_quad\n",
    "        model_results.loc[item,'model']='quad'\n",
    "    elif min_error == SSE_lin:\n",
    "        model_results.loc[item,['a','b']]=popt_lin\n",
    "        model_results.loc[item,'model']='lin'\n",
    "    elif min_error == SSE_exp:\n",
    "        model_results.loc[item,['a','b','c']]=popt_exp\n",
    "        model_results.loc[item,'model']='exp'    \n",
    "        "
   ]
  },
  {
   "cell_type": "code",
   "execution_count": null,
   "metadata": {
    "collapsed": false
   },
   "outputs": [],
   "source": [
    "model_results"
   ]
  },
  {
   "cell_type": "code",
   "execution_count": null,
   "metadata": {
    "collapsed": false
   },
   "outputs": [],
   "source": [
    "# Include all dates, even those with missing data\n",
    "xdata_full=np.array(range(len(dates)))\n",
    "xdata_pred=np.array(range(len(dates)))[-11:]\n",
    "xdata_dfrac = np.array(range(len(dates)))[13:-1]"
   ]
  },
  {
   "cell_type": "code",
   "execution_count": null,
   "metadata": {
    "collapsed": true
   },
   "outputs": [],
   "source": [
    "#func use\n",
    "def function_use(county,model_results):\n",
    "    if model_results.loc[county][\"model\"]=='exp':\n",
    "        func_use=exp_func\n",
    "        opt_model = 'Exponential'\n",
    "    elif model_results.loc[county][\"model\"]=='quad':\n",
    "        func_use=quad_func\n",
    "        opt_model = 'Quadratic (up)'\n",
    "        if model_results.loc[county]['a']<0:\n",
    "            opt_model = \"Quadratic (down)\"\n",
    "    else:\n",
    "        func_use=lin_func\n",
    "        opt_model = 'Linear'\n",
    "    return func_use, opt_model"
   ]
  },
  {
   "cell_type": "markdown",
   "metadata": {},
   "source": [
    "### Illinois model and dynamics"
   ]
  },
  {
   "cell_type": "code",
   "execution_count": null,
   "metadata": {
    "collapsed": true
   },
   "outputs": [],
   "source": [
    "next_day = xdata_pred[-1]\n",
    "next2_day = next_day+1; next3_day = next_day+2\n",
    "sub=\"[1] Schools close; [2] Stay-at-home order\""
   ]
  },
  {
   "cell_type": "code",
   "execution_count": null,
   "metadata": {
    "collapsed": false
   },
   "outputs": [],
   "source": [
    "popt_state = model_results.loc[\"positive\"][0:3]\n",
    "\n",
    "func_use, opt_model = function_use(\"positive\",model_results)\n",
    "\n",
    "if opt_model==\"Linear\":\n",
    "    next_day_cases = func_use(next_day, popt_state[0], popt_state[1])\n",
    "    next2_day_cases = func_use(next2_day, popt_state[0], popt_state[1])\n",
    "    next3_day_cases = func_use(next3_day, popt_state[0], popt_state[1])\n",
    "    \n",
    "else:\n",
    "    next_day_cases = func_use(next_day, popt_state[0], popt_state[1], popt_state[2])\n",
    "    next2_day_cases = func_use(next2_day, popt_state[0], popt_state[1], popt_state[2])\n",
    "    next3_day_cases = func_use(next3_day, popt_state[0], popt_state[1], popt_state[2])\n",
    "\n",
    "\n",
    "loc = \"Illinois\"\n",
    "model = \"Best fit model: {}\"\n",
    "pred_text=\"Prediction for total cases:\"\n",
    "next_pred='\\t{}: {}';"
   ]
  },
  {
   "cell_type": "code",
   "execution_count": null,
   "metadata": {
    "collapsed": false
   },
   "outputs": [],
   "source": [
    "legend_elements =  [Line2D([0], [0], marker='+', color='red', label=loc, markersize=15),\n",
    "                    Line2D([0], [0], marker='', color='black',linestyle='', label=model.format(opt_model), markersize=15),\n",
    "                Line2D([1], [0], marker='', color='black',linestyle='', label=pred_text, markersize=1),\n",
    "                   Line2D([1], [0], marker='', color='black',linestyle='', label=next_pred.format(tomorrow_label,int(next_day_cases)), markersize=1),\n",
    "                   Line2D([0], [0], marker='', color='black',linestyle='', label=next_pred.format(next2_label,int(next2_day_cases)), markersize=15),\n",
    "                   Line2D([0], [0], marker='', color='black',linestyle='', label=next_pred.format(next3_label,int(next3_day_cases)), markersize=15)]\n",
    "\n",
    "if opt_model=='Linear':\n",
    "    popt_state=popt_state[0:2]\n",
    "\n",
    "plt.figure(figsize=(15,10))\n",
    "\n",
    "plt.plot(xdata_pred, func_use(xdata_pred, *popt_state), color='grey',linestyle='--');\n",
    "plt.scatter(IL_data.index,IL_data['positive'],color='red',marker='+');\n",
    "\n",
    "plt.vlines(x=12, ymin=0, ymax=500,color='dimgrey', linewidth=0.5,linestyle='-.');\n",
    "plt.text(12.4,490,\"[1]\",rotation=0,color='black',fontsize = 13,verticalalignment='center',horizontalalignment='center');\n",
    "\n",
    "plt.vlines(x=16, ymin=0, ymax=1000,color='dimgrey', linewidth=0.5,linestyle='-.');\n",
    "plt.text(16.4,900,\"[2]\",rotation=0,color='black',fontsize = 13,verticalalignment='center',horizontalalignment='center');\n",
    "\n",
    "plt.ylabel('# COVID cases',fontsize=15);\n",
    "plt.xticks(xdata_full, dates, rotation=45,fontsize=12)  \n",
    "plt.yticks(fontsize=12)\n",
    "plt.xlabel('Dates (2020)',fontsize=15)\n",
    "plt.legend(handles=legend_elements,fontsize=15,loc='upper left')\n",
    "plt.suptitle(\"COVID dynamics for Illinois\",fontsize=20);\n",
    "plt.title(sub, fontsize=13);\n",
    "plt.savefig(\"IL_update.png\")"
   ]
  },
  {
   "cell_type": "code",
   "execution_count": null,
   "metadata": {
    "collapsed": false
   },
   "outputs": [],
   "source": [
    "legend_elements =  [Line2D([0], [0], marker='+', color='slateblue', label=\"Crude CFR (Case Fatality Rate)\", markersize=15)]\n",
    "\n",
    "plt.figure(figsize=(15,10))\n",
    "\n",
    "plt.plot(xdata_dfrac,d_frac_df[\"d_frac\"],'o-',color='slateblue');\n",
    "                               \n",
    "plt.vlines(x=12, ymin=0, ymax=2,color='dimgrey', linewidth=0.5,linestyle='-.');\n",
    "plt.text(12.4,2,\"[1]\",rotation=0,color='black',fontsize = 13,verticalalignment='center',horizontalalignment='center');\n",
    "\n",
    "plt.vlines(x=16, ymin=0, ymax=2,color='dimgrey', linewidth=0.5,linestyle='-.');\n",
    "plt.text(16.4,2,\"[2]\",rotation=0,color='black',fontsize = 13,verticalalignment='center',horizontalalignment='center');                              \n",
    "\n",
    "plt.ylabel('Crude CFR (%)',fontsize=15);\n",
    "plt.xticks(xdata_full, dates, rotation=45,fontsize=12)  \n",
    "plt.yticks(fontsize=12)\n",
    "plt.xlabel('Dates (2020)',fontsize=15)\n",
    "plt.legend(handles=legend_elements,fontsize=15,loc='upper left')\n",
    "plt.suptitle(\"Crude CFR for Illinois\",fontsize=20);\n",
    "plt.title(sub, fontsize=13);\n",
    "plt.savefig(\"IL_update_p.png\")"
   ]
  },
  {
   "cell_type": "code",
   "execution_count": null,
   "metadata": {
    "collapsed": false
   },
   "outputs": [],
   "source": [
    "##import latest county data\n",
    "url='https://raw.githubusercontent.com/nytimes/covid-19-data/master/us-counties.csv'\n",
    "county_data=pd.read_csv(url,sep=',',header='infer', parse_dates=[0])"
   ]
  },
  {
   "cell_type": "code",
   "execution_count": null,
   "metadata": {
    "collapsed": false
   },
   "outputs": [],
   "source": [
    "state = county_data[county_data[\"state\"]=='Illinois']\n",
    "state['date_v2']=state['date'].dt.strftime('%m/%d')"
   ]
  },
  {
   "cell_type": "code",
   "execution_count": null,
   "metadata": {
    "collapsed": false
   },
   "outputs": [],
   "source": [
    "state.tail()"
   ]
  },
  {
   "cell_type": "code",
   "execution_count": null,
   "metadata": {
    "collapsed": false
   },
   "outputs": [],
   "source": [
    "state_f = state[\"date\"]>=\"2020-03-04\"\n",
    "state_f = state[state_f]\n",
    "counties=[\"McHenry\",\"Lake\",\"Cook\"]"
   ]
  },
  {
   "cell_type": "code",
   "execution_count": null,
   "metadata": {
    "collapsed": false
   },
   "outputs": [],
   "source": [
    "start_date=min(state_f[\"date\"])\n",
    "end_date=max(state_f[\"date\"])\n",
    "next_date=end_date+datetime.timedelta(days=1)\n",
    "date_range=pd.date_range(start=start_date, end=end_date)\n",
    "date_range_plus=pd.date_range(start=start_date,end=next_date)\n",
    "dates = [date.strftime('%m-%d-%y') for date in date_range]\n",
    "dates_plus = [date.strftime('%m-%d-%y') for date in date_range_plus]\n",
    "\n",
    "tomorrow_label = (end_date + datetime.timedelta(days=1)).strftime('%m/%d')\n",
    "next2_label = (end_date + datetime.timedelta(days=2)).strftime('%m/%d')\n",
    "next3_label = (end_date + datetime.timedelta(days=3)).strftime('%m/%d')"
   ]
  },
  {
   "cell_type": "code",
   "execution_count": null,
   "metadata": {
    "collapsed": false
   },
   "outputs": [],
   "source": [
    "county_d = pd.DataFrame(index=dates, columns=counties)\n",
    "county_d.fillna(0,inplace=True)\n",
    "county_c = pd.DataFrame(index=dates, columns=counties)\n",
    "county_c.fillna(0,inplace=True)\n",
    "\n",
    "for county in counties:\n",
    "    county_spec = state_f[state_f[\"county\"]==county]\n",
    "    county_spec.index=county_spec['date']\n",
    "    county_dates = [date.strftime('%m-%d-%y') for date in county_spec.index]\n",
    "    for county_date in county_dates:\n",
    "        county_c.loc[county_date,county]=county_spec.loc[county_date][\"cases\"]\n",
    "        county_d.loc[county_date,county]=county_spec.loc[county_date][\"deaths\"]\n",
    "        \n",
    "county_c.reset_index(inplace=True,drop=False)\n",
    "county_c.rename(columns={\"index\":\"date\"},inplace=True)\n",
    "\n",
    "county_d.reset_index(inplace=True,drop=False)\n",
    "county_d.rename(columns={\"index\":\"date\"},inplace=True)"
   ]
  },
  {
   "cell_type": "code",
   "execution_count": null,
   "metadata": {
    "collapsed": false
   },
   "outputs": [],
   "source": [
    "# model fit for positive cases\n",
    "xdata=np.array(county_c.index)[-10:]\n",
    "\n",
    "select_counties=[\"Lake\",\"Cook\",\"McHenry\"]\n",
    "model_results_county=pd.DataFrame(index=select_counties,columns=['a','b','c'])\n",
    "xdata=np.array(county_c.index)[-10:]\n",
    "for item in select_counties:\n",
    "    ydata=np.array(county_c[item])[-10:]\n",
    "    popt_quad,SSE_quad = SSE_curve(xdata,ydata,quad_func)\n",
    "    popt_lin,SSE_lin = SSE_curve(xdata,ydata,lin_func)\n",
    "    \n",
    "    quad_lin_diff=((SSE_lin/SSE_quad)-1)*100\n",
    "    \n",
    "    if quad_lin_diff<5:\n",
    "        no_quad=1\n",
    "    else:\n",
    "        no_quad=0   \n",
    "    \n",
    "    try:\n",
    "        popt_exp, SSE_exp = SSE_curve(xdata,ydata,exp_func)\n",
    "        min_error=min(SSE_exp,SSE_quad,SSE_lin)\n",
    "    except:\n",
    "        min_error=min(SSE_quad,SSE_lin)\n",
    "    \n",
    "    if (min_error==SSE_quad) and (no_quad==1):\n",
    "        min_error=SSE_lin\n",
    "    \n",
    "    if min_error == SSE_quad:\n",
    "        model_results_county.loc[item,['a','b','c']]=popt_quad\n",
    "        model_results_county.loc[item,'model']='quad'\n",
    "    elif min_error == SSE_lin:\n",
    "        model_results_county.loc[item,['a','b']]=popt_lin\n",
    "        model_results_county.loc[item,'model']='lin'\n",
    "    elif min_error == SSE_exp:\n",
    "        model_results_county.loc[item,['a','b','c']]=popt_exp\n",
    "        model_results_county.loc[item,'model']='exp'    "
   ]
  },
  {
   "cell_type": "code",
   "execution_count": null,
   "metadata": {
    "collapsed": false
   },
   "outputs": [],
   "source": [
    "model_results_county"
   ]
  },
  {
   "cell_type": "code",
   "execution_count": null,
   "metadata": {
    "collapsed": false
   },
   "outputs": [],
   "source": [
    "# Include all dates, even those with missing data\n",
    "xdata_full=np.array(range(len(dates_plus)))\n",
    "xdata_pred=np.array(range(len(dates_plus)))[-11:]"
   ]
  },
  {
   "cell_type": "code",
   "execution_count": null,
   "metadata": {
    "collapsed": false
   },
   "outputs": [],
   "source": [
    "next_day = xdata_pred[-1]\n",
    "next2_day = next_day+1; next3_day = next_day+2\n",
    "sub=\"[1] Schools close; [2] Stay-at-home order\""
   ]
  },
  {
   "cell_type": "code",
   "execution_count": null,
   "metadata": {
    "collapsed": true
   },
   "outputs": [],
   "source": [
    "# Cook County"
   ]
  },
  {
   "cell_type": "code",
   "execution_count": null,
   "metadata": {
    "collapsed": false
   },
   "outputs": [],
   "source": [
    "poptC = model_results_county.loc[\"Cook\"][0:3]\n",
    "\n",
    "func_useC, opt_modelC = function_use(\"Cook\",model_results_county)\n",
    "\n",
    "if opt_modelC==\"Linear\":\n",
    "    next_day_casesC = func_useC(next_day, poptC[0], poptC[1])\n",
    "    next2_day_casesC = func_useC(next2_day, poptC[0], poptC[1])\n",
    "    next3_day_casesC = func_useC(next3_day, poptC[0], poptC[1])\n",
    "\n",
    "else:\n",
    "    next_day_casesC = func_useC(next_day, poptC[0], poptC[1], poptC[2])\n",
    "    next2_day_casesC = func_useC(next2_day, poptC[0], poptC[1], poptC[2])\n",
    "    next3_day_casesC = func_useC(next3_day, poptC[0], poptC[1], poptC[2])\n",
    "\n",
    "locC = \"Cook County\"\n",
    "model = \"Best fit model: {}\"\n",
    "pred_text=\"Prediction for total cases:\"\n",
    "next_pred='\\t{}: {}';"
   ]
  },
  {
   "cell_type": "code",
   "execution_count": null,
   "metadata": {
    "collapsed": false
   },
   "outputs": [],
   "source": [
    "# Create legend\n",
    "legend_elements =  [Line2D([0], [0], marker='+', color='maroon', label=locC, markersize=15),\n",
    "                    Line2D([0], [0], marker='', color='black',linestyle='', label=model.format(opt_modelC), markersize=15),\n",
    "                    Line2D([1], [0], marker='', color='black',linestyle='', label=pred_text, markersize=1),\n",
    "                    Line2D([1], [0], marker='', color='black',linestyle='', label=next_pred.format(tomorrow_label,int(next_day_casesC)), markersize=1),\n",
    "                    Line2D([0], [0], marker='', color='black',linestyle='', label=next_pred.format(next2_label,int(next2_day_casesC)), markersize=15),\n",
    "                    Line2D([0], [0], marker='', color='black',linestyle='', label=next_pred.format(next3_label,int(next3_day_casesC)), markersize=15)]\n",
    "                \n",
    "if opt_modelC=='Linear':\n",
    "    poptC=poptC[0:2]\n",
    "    \n",
    "plt.figure(figsize=(15,10));\n",
    "\n",
    "plt.plot(xdata_pred, func_useC(xdata_pred, *poptC), color='grey',linestyle='--')\n",
    "plt.scatter(county_c.index,county_c['Cook'],color='maroon',marker='+')\n",
    "\n",
    "plt.vlines(x=12, ymin=0, ymax=250,color='dimgrey', linewidth=0.5,linestyle='-.');\n",
    "plt.text(12.4,245,\"[1]\",rotation=0,color='black',fontsize = 13,verticalalignment='center',horizontalalignment='center');\n",
    "\n",
    "plt.vlines(x=16, ymin=0, ymax=900,color='dimgrey', linewidth=0.5,linestyle='-.');\n",
    "plt.text(16.4,895,\"[2]\",rotation=0,color='black',fontsize = 13,verticalalignment='center',horizontalalignment='center');\n",
    "\n",
    "plt.ylabel('# COVID cases',fontsize=15);\n",
    "plt.xticks(xdata_full, dates_plus, rotation=45,fontsize=12)  \n",
    "plt.yticks(fontsize=12)\n",
    "plt.xlabel('Dates (2020)',fontsize=15)\n",
    "plt.legend(handles=legend_elements,fontsize=15,loc='upper left')\n",
    "plt.suptitle(\"COVID dynamics for Cook county in Illinois\",fontsize=20); \n",
    "plt.title(sub, fontsize=13);\n",
    "plt.savefig(\"IL_update_Cook.png\")"
   ]
  },
  {
   "cell_type": "code",
   "execution_count": null,
   "metadata": {
    "collapsed": true
   },
   "outputs": [],
   "source": [
    "# Lake AND McHenry"
   ]
  },
  {
   "cell_type": "code",
   "execution_count": null,
   "metadata": {
    "collapsed": false
   },
   "outputs": [],
   "source": [
    "poptL = model_results_county.loc[\"Lake\"][0:3]\n",
    "poptM = model_results_county.loc[\"McHenry\"][0:3]\n",
    "\n",
    "func_useL, opt_modelL = function_use(\"Lake\",model_results_county)\n",
    "func_useC, opt_modelM = function_use(\"McHenry\",model_results_county)\n",
    "\n",
    "if opt_modelL==\"Linear\":\n",
    "    next_day_casesL = func_useL(next_day, poptL[0], poptL[1])\n",
    "    next2_day_casesL = func_useL(next2_day, poptL[0], poptL[1])\n",
    "    next3_day_casesL = func_useL(next3_day, poptL[0], poptL[1])\n",
    "\n",
    "else:\n",
    "    next_day_casesL = func_useL(next_day, poptL[0], poptL[1], poptL[2])\n",
    "    next2_day_casesL = func_useL(next2_day, poptL[0], poptL[1], poptL[2])\n",
    "    next3_day_casesL = func_useL(next3_day, poptL[0], poptL[1], poptL[2])\n",
    "\n",
    "if opt_modelM==\"Linear\":\n",
    "    next_day_casesM = func_useC(next_day, poptM[0], poptM[1])\n",
    "    next2_day_casesM = func_useC(next2_day, poptM[0], poptM[1])\n",
    "    next3_day_casesM = func_useC(next3_day, poptM[0], poptM[1])\n",
    "\n",
    "else:\n",
    "    next_day_casesM = func_useC(next_day, poptM[0], poptM[1],poptM[2])\n",
    "    next2_day_casesM = func_useC(next2_day, poptM[0], poptM[1],poptM[2])\n",
    "    next3_day_casesM = func_useC(next3_day, poptM[0], poptM[1],poptM[2])\n",
    "\n",
    "locL = \"Lake County\"\n",
    "locM = \"McHenry County\"\n",
    "model = \"Best fit model: {}\"\n",
    "pred_text=\"Prediction for total cases:\"\n",
    "next_pred='\\t{}: {}';"
   ]
  },
  {
   "cell_type": "code",
   "execution_count": null,
   "metadata": {
    "collapsed": false
   },
   "outputs": [],
   "source": [
    "# Create legend\n",
    "legend_elements =  [Line2D([0], [0], marker='+', color='steelblue', label=locL, markersize=15),\n",
    "                    Line2D([0], [0], marker='', color='black',linestyle='', label=model.format(opt_modelL), markersize=15),\n",
    "                    Line2D([1], [0], marker='', color='black',linestyle='', label=pred_text, markersize=1),\n",
    "                    Line2D([1], [0], marker='', color='black',linestyle='', label=next_pred.format(tomorrow_label,int(next_day_casesL)), markersize=1),\n",
    "                    Line2D([0], [0], marker='', color='black',linestyle='', label=next_pred.format(next2_label,int(next2_day_casesL)), markersize=15),\n",
    "                    Line2D([0], [0], marker='', color='black',linestyle='', label=next_pred.format(next3_label,int(next3_day_casesL)), markersize=15),\n",
    "                    Line2D([0], [0], marker='+', color='orange', label=locM, markersize=15),\n",
    "                    Line2D([0], [0], marker='', color='black',linestyle='', label=model.format(opt_modelM), markersize=15),\n",
    "                    Line2D([1], [0], marker='', color='black',linestyle='', label=pred_text, markersize=1),\n",
    "                    Line2D([1], [0], marker='', color='black',linestyle='', label=next_pred.format(tomorrow_label,int(next_day_casesM)), markersize=1),\n",
    "                    Line2D([0], [0], marker='', color='black',linestyle='', label=next_pred.format(next2_label,int(next2_day_casesM)), markersize=15),\n",
    "                    Line2D([0], [0], marker='', color='black',linestyle='', label=next_pred.format(next3_label,int(next3_day_casesM)), markersize=15)]\n",
    "\n",
    "if opt_modelL=='Linear':\n",
    "    poptL=poptL[0:2]\n",
    "\n",
    "if opt_modelM=='Linear':\n",
    "    poptM=poptM[0:2]\n",
    "    \n",
    "plt.figure(figsize=(15,10));\n",
    "\n",
    "plt.plot(xdata_pred, func_useL(xdata_pred, *poptL), color='grey',linestyle='--')\n",
    "plt.scatter(county_c.index,county_c['Lake'],color='steelblue',marker='+')\n",
    "\n",
    "plt.plot(xdata_pred, func_useC(xdata_pred, *poptM), color='grey',linestyle='--')\n",
    "plt.scatter(county_c.index,county_c['McHenry'],color='orange',marker='+')\n",
    "\n",
    "plt.vlines(x=12, ymin=0, ymax=50,color='dimgrey', linewidth=0.5,linestyle='-.');\n",
    "plt.text(12.4,45,\"[1]\",rotation=0,color='black',fontsize = 13,verticalalignment='center',horizontalalignment='center');\n",
    "\n",
    "plt.vlines(x=16, ymin=0, ymax=100,color='dimgrey', linewidth=0.5,linestyle='-.');\n",
    "plt.text(16.4,95,\"[2]\",rotation=0,color='black',fontsize = 13,verticalalignment='center',horizontalalignment='center');\n",
    "\n",
    "plt.ylabel('# COVID cases',fontsize=15);\n",
    "plt.xticks(xdata_full, dates_plus, rotation=45,fontsize=12)  \n",
    "plt.yticks(fontsize=12)\n",
    "plt.xlabel('Dates (2020)',fontsize=15)\n",
    "plt.legend(handles=legend_elements,fontsize=15,loc='upper left')\n",
    "plt.suptitle(\"COVID dynamics for two Illinois counties: Lake and McHenry\",fontsize=20); \n",
    "plt.title(sub, fontsize=13);\n",
    "plt.savefig(\"IL_update_Lake_McHenry.png\")"
   ]
  },
  {
   "cell_type": "code",
   "execution_count": null,
   "metadata": {
    "collapsed": false
   },
   "outputs": [],
   "source": [
    "# Get fraction of deaths\n",
    "d_frac_dfC = pd.DataFrame(index=county_c.index,columns=['d_frac'])\n",
    "d_frac_dfC['date'] = county_c[\"date\"]\n",
    "for i in county_c.index:\n",
    "    d = county_d.iloc[i]['Cook']\n",
    "    p = county_c.iloc[i]['Cook']\n",
    "    if p!=0:\n",
    "        d_frac = float(\"{:.4f}\".format(d/p))\n",
    "        d_frac_dfC.loc[i,'d_frac']=d_frac*100\n",
    "\n",
    "# Get fraction of deaths\n",
    "d_frac_dfL = pd.DataFrame(index=county_c.index,columns=['d_frac'])\n",
    "d_frac_dfL['date'] = county_c[\"date\"]\n",
    "for i in county_c.index:\n",
    "    d = county_d.iloc[i]['Lake']\n",
    "    p = county_c.iloc[i]['Lake']\n",
    "    if p!=0:\n",
    "        d_frac = float(\"{:.4f}\".format(d/p))\n",
    "        d_frac_dfL.loc[i,'d_frac']=d_frac*100\n",
    "        \n",
    "# Get fraction of deaths\n",
    "d_frac_dfM = pd.DataFrame(index=county_c.index,columns=['d_frac'])\n",
    "d_frac_dfM['date'] = county_c[\"date\"]\n",
    "for i in county_c.index:\n",
    "    d = county_d.iloc[i]['McHenry']\n",
    "    p = county_c.iloc[i]['McHenry']\n",
    "    if p!=0:\n",
    "        d_frac = float(\"{:.4f}\".format(d/p))\n",
    "        d_frac_dfM.loc[i,'d_frac']=d_frac*100"
   ]
  },
  {
   "cell_type": "code",
   "execution_count": null,
   "metadata": {
    "collapsed": false
   },
   "outputs": [],
   "source": [
    "legend_elements =  [Line2D([0], [0], marker='+', color='seagreen', label=\"Lake County\", markersize=15),\n",
    "                   Line2D([0], [0], marker='+', color='mediumorchid', label=\"McHenry County\", markersize=15),\n",
    "                   Line2D([0], [0], marker='+', color='mediumblue', label=\"Cook County\", markersize=15)]\n",
    "\n",
    "plt.figure(figsize=(15,10))\n",
    "\n",
    "plt.plot(d_frac_dfL.index,d_frac_dfL[\"d_frac\"],'o-',color='seagreen');\n",
    "plt.plot(d_frac_dfM.index,d_frac_dfM[\"d_frac\"],'o-',color='mediumorchid');\n",
    "plt.plot(d_frac_dfC.index,d_frac_dfC[\"d_frac\"],'o-',color='mediumblue');\n",
    "                               \n",
    "plt.vlines(x=12, ymin=0, ymax=1.5,color='dimgrey', linewidth=0.5,linestyle='-.');\n",
    "plt.text(12.4,1.4,\"[1]\",rotation=0,color='black',fontsize = 13,verticalalignment='center',horizontalalignment='center');\n",
    "\n",
    "plt.vlines(x=16, ymin=0, ymax=1.5,color='dimgrey', linewidth=0.5,linestyle='-.');\n",
    "plt.text(16.4,1.4,\"[2]\",rotation=0,color='black',fontsize = 13,verticalalignment='center',horizontalalignment='center');                              \n",
    "\n",
    "plt.ylabel('Crude CFR (%)',fontsize=15);\n",
    "plt.xticks(xdata_full, dates, rotation=45,fontsize=12)  \n",
    "plt.yticks(fontsize=12)\n",
    "plt.xlabel('Dates (2020)',fontsize=15)\n",
    "plt.legend(handles=legend_elements,fontsize=15,loc='upper left')\n",
    "plt.suptitle(\"Crude CFR (Case Fatality Rate) for Cook, Lake, and McHenry County\",fontsize=20);\n",
    "plt.title(sub, fontsize=13);\n",
    "plt.savefig(\"IL_update_county_p.png\")"
   ]
  },
  {
   "cell_type": "code",
   "execution_count": null,
   "metadata": {
    "collapsed": true
   },
   "outputs": [],
   "source": []
  },
  {
   "cell_type": "code",
   "execution_count": null,
   "metadata": {
    "collapsed": true
   },
   "outputs": [],
   "source": []
  }
 ],
 "metadata": {
  "kernelspec": {
   "display_name": "Python 3",
   "language": "python",
   "name": "python3"
  },
  "language_info": {
   "codemirror_mode": {
    "name": "ipython",
    "version": 3
   },
   "file_extension": ".py",
   "mimetype": "text/x-python",
   "name": "python",
   "nbconvert_exporter": "python",
   "pygments_lexer": "ipython3",
   "version": "3.6.8"
  },
  "varInspector": {
   "cols": {
    "lenName": 16,
    "lenType": 16,
    "lenVar": 40
   },
   "kernels_config": {
    "python": {
     "delete_cmd_postfix": "",
     "delete_cmd_prefix": "del ",
     "library": "var_list.py",
     "varRefreshCmd": "print(var_dic_list())"
    },
    "r": {
     "delete_cmd_postfix": ") ",
     "delete_cmd_prefix": "rm(",
     "library": "var_list.r",
     "varRefreshCmd": "cat(var_dic_list()) "
    }
   },
   "position": {
    "height": "144px",
    "left": "902.986px",
    "right": "20px",
    "top": "669.99px",
    "width": "350px"
   },
   "types_to_exclude": [
    "module",
    "function",
    "builtin_function_or_method",
    "instance",
    "_Feature"
   ],
   "window_display": true
  }
 },
 "nbformat": 4,
 "nbformat_minor": 2
}
