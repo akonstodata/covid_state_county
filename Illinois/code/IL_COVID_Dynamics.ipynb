{
 "cells": [
  {
   "cell_type": "markdown",
   "metadata": {},
   "source": [
    "### Modeling and visualizing dynamics of state COVID cases \n",
    "\n",
    "#### Anna Konstorum (konstorum.anna@gmail.com)"
   ]
  },
  {
   "cell_type": "code",
   "execution_count": 1,
   "metadata": {
    "collapsed": true
   },
   "outputs": [],
   "source": [
    "# import packages\n",
    "import datetime\n",
    "import os\n",
    "import matplotlib.pyplot as plt\n",
    "from scipy.optimize import curve_fit\n",
    "import seaborn as sns\n",
    "import pandas as pd\n",
    "import numpy as np\n",
    "import seaborn as sns\n",
    "from matplotlib.lines import Line2D\n",
    "%matplotlib inline"
   ]
  },
  {
   "cell_type": "code",
   "execution_count": 2,
   "metadata": {
    "collapsed": false,
    "scrolled": true
   },
   "outputs": [
    {
     "name": "stdout",
     "output_type": "stream",
     "text": [
      "Last updated: 2020-04-01\n"
     ]
    }
   ],
   "source": [
    "print(f'Last updated: {datetime.date.today()}')"
   ]
  },
  {
   "cell_type": "code",
   "execution_count": 3,
   "metadata": {
    "collapsed": true
   },
   "outputs": [],
   "source": [
    "# import latest state data\n",
    "url='https://covidtracking.com/api/states/daily.csv'\n",
    "state_data=pd.read_csv(url,sep=',',header='infer', parse_dates=[0])"
   ]
  },
  {
   "cell_type": "code",
   "execution_count": 4,
   "metadata": {
    "collapsed": true
   },
   "outputs": [],
   "source": [
    "# create exponential function to model \n",
    "# will add additional functions shortly\n",
    "\n",
    "def exp_func(x, a, b, c):\n",
    "    return a * np.exp(b * x) + c\n",
    "\n",
    "def quad_func(x,a,b,c):\n",
    "    return a*x**2 +b*x+c\n",
    "\n",
    "def lin_func(x,a,b):\n",
    "    return a*x + b"
   ]
  },
  {
   "cell_type": "code",
   "execution_count": 5,
   "metadata": {
    "collapsed": true
   },
   "outputs": [],
   "source": [
    "def SSE_curve(x,y,fxn):\n",
    "    popt,pop = curve_fit(fxn,x,y)\n",
    "    y_exp= fxn(x, *popt)\n",
    "    SSE = sum((y-y_exp)**2)\n",
    "    return popt,SSE"
   ]
  },
  {
   "cell_type": "code",
   "execution_count": 6,
   "metadata": {
    "collapsed": false
   },
   "outputs": [],
   "source": [
    "# filter for IL\n",
    "IL_data = state_data[state_data[\"state\"]==\"IL\"]\n",
    "IL_data=IL_data.sort_values(by=\"date\")\n",
    "IL_data.reset_index(inplace=True,drop=True)"
   ]
  },
  {
   "cell_type": "code",
   "execution_count": 7,
   "metadata": {
    "collapsed": false
   },
   "outputs": [
    {
     "name": "stdout",
     "output_type": "stream",
     "text": [
      "Data from 2020-03-04 to 2020-04-01\n"
     ]
    }
   ],
   "source": [
    "# date range of the graph\n",
    "start_date = min(IL_data['date'])\n",
    "end_date = max(IL_data['date'])\n",
    "next_date=end_date+datetime.timedelta(days=1)\n",
    "\n",
    "print(f'Data from {start_date.strftime(\"%Y-%m-%d\")} to {end_date.strftime(\"%Y-%m-%d\")}')"
   ]
  },
  {
   "cell_type": "code",
   "execution_count": 8,
   "metadata": {
    "collapsed": false
   },
   "outputs": [],
   "source": [
    "# Textual date for labels\n",
    "tomorrow_label = (end_date + datetime.timedelta(days=1)).strftime('%m/%d')\n",
    "\n",
    "# get current date range\n",
    "date_range=pd.date_range(start=start_date, end=end_date)\n",
    "date_range_plus=pd.date_range(start=start_date,end=next_date)\n",
    "\n",
    "# output date range as list\n",
    "dates = [date.strftime('%m/%d') for date in date_range_plus]"
   ]
  },
  {
   "cell_type": "code",
   "execution_count": 10,
   "metadata": {
    "collapsed": false
   },
   "outputs": [
    {
     "data": {
      "text/html": [
       "<div>\n",
       "<style scoped>\n",
       "    .dataframe tbody tr th:only-of-type {\n",
       "        vertical-align: middle;\n",
       "    }\n",
       "\n",
       "    .dataframe tbody tr th {\n",
       "        vertical-align: top;\n",
       "    }\n",
       "\n",
       "    .dataframe thead th {\n",
       "        text-align: right;\n",
       "    }\n",
       "</style>\n",
       "<table border=\"1\" class=\"dataframe\">\n",
       "  <thead>\n",
       "    <tr style=\"text-align: right;\">\n",
       "      <th></th>\n",
       "      <th>date</th>\n",
       "      <th>state</th>\n",
       "      <th>positive</th>\n",
       "      <th>negative</th>\n",
       "      <th>pending</th>\n",
       "      <th>hospitalized</th>\n",
       "      <th>death</th>\n",
       "      <th>total</th>\n",
       "      <th>hash</th>\n",
       "      <th>dateChecked</th>\n",
       "      <th>totalTestResults</th>\n",
       "      <th>fips</th>\n",
       "      <th>deathIncrease</th>\n",
       "      <th>hospitalizedIncrease</th>\n",
       "      <th>negativeIncrease</th>\n",
       "      <th>positiveIncrease</th>\n",
       "      <th>totalTestResultsIncrease</th>\n",
       "    </tr>\n",
       "  </thead>\n",
       "  <tbody>\n",
       "    <tr>\n",
       "      <th>24</th>\n",
       "      <td>2020-03-28</td>\n",
       "      <td>IL</td>\n",
       "      <td>3491.0</td>\n",
       "      <td>22000.0</td>\n",
       "      <td>NaN</td>\n",
       "      <td>NaN</td>\n",
       "      <td>47.0</td>\n",
       "      <td>25491</td>\n",
       "      <td>a874a1cfa1dfcafd1bb994844a8cf665e01089c3</td>\n",
       "      <td>2020-03-28T20:00:00Z</td>\n",
       "      <td>25491</td>\n",
       "      <td>17</td>\n",
       "      <td>13.0</td>\n",
       "      <td>0.0</td>\n",
       "      <td>3484.0</td>\n",
       "      <td>465.0</td>\n",
       "      <td>3949.0</td>\n",
       "    </tr>\n",
       "    <tr>\n",
       "      <th>25</th>\n",
       "      <td>2020-03-29</td>\n",
       "      <td>IL</td>\n",
       "      <td>4596.0</td>\n",
       "      <td>23166.0</td>\n",
       "      <td>NaN</td>\n",
       "      <td>NaN</td>\n",
       "      <td>65.0</td>\n",
       "      <td>27762</td>\n",
       "      <td>e6e6b00bdc70ca71fc14b3056568dfc40097d750</td>\n",
       "      <td>2020-03-29T20:00:00Z</td>\n",
       "      <td>27762</td>\n",
       "      <td>17</td>\n",
       "      <td>18.0</td>\n",
       "      <td>0.0</td>\n",
       "      <td>1166.0</td>\n",
       "      <td>1105.0</td>\n",
       "      <td>2271.0</td>\n",
       "    </tr>\n",
       "    <tr>\n",
       "      <th>26</th>\n",
       "      <td>2020-03-30</td>\n",
       "      <td>IL</td>\n",
       "      <td>5057.0</td>\n",
       "      <td>25389.0</td>\n",
       "      <td>NaN</td>\n",
       "      <td>NaN</td>\n",
       "      <td>73.0</td>\n",
       "      <td>30446</td>\n",
       "      <td>db16bd0b1c0f9046c733f293408dbe1f719d965c</td>\n",
       "      <td>2020-03-30T20:00:00Z</td>\n",
       "      <td>30446</td>\n",
       "      <td>17</td>\n",
       "      <td>8.0</td>\n",
       "      <td>0.0</td>\n",
       "      <td>2223.0</td>\n",
       "      <td>461.0</td>\n",
       "      <td>2684.0</td>\n",
       "    </tr>\n",
       "    <tr>\n",
       "      <th>27</th>\n",
       "      <td>2020-03-31</td>\n",
       "      <td>IL</td>\n",
       "      <td>5994.0</td>\n",
       "      <td>29231.0</td>\n",
       "      <td>NaN</td>\n",
       "      <td>NaN</td>\n",
       "      <td>99.0</td>\n",
       "      <td>35225</td>\n",
       "      <td>6d3342d7069283e8be62943d22029dc73f176bf5</td>\n",
       "      <td>2020-03-31T20:00:00Z</td>\n",
       "      <td>35225</td>\n",
       "      <td>17</td>\n",
       "      <td>26.0</td>\n",
       "      <td>0.0</td>\n",
       "      <td>3842.0</td>\n",
       "      <td>937.0</td>\n",
       "      <td>4779.0</td>\n",
       "    </tr>\n",
       "    <tr>\n",
       "      <th>28</th>\n",
       "      <td>2020-04-01</td>\n",
       "      <td>IL</td>\n",
       "      <td>6980.0</td>\n",
       "      <td>33404.0</td>\n",
       "      <td>NaN</td>\n",
       "      <td>NaN</td>\n",
       "      <td>141.0</td>\n",
       "      <td>40384</td>\n",
       "      <td>e19ad5ef0b91b1b02a9e132a0e3f2c7d9b7a48a0</td>\n",
       "      <td>2020-04-01T20:00:00Z</td>\n",
       "      <td>40384</td>\n",
       "      <td>17</td>\n",
       "      <td>42.0</td>\n",
       "      <td>0.0</td>\n",
       "      <td>4173.0</td>\n",
       "      <td>986.0</td>\n",
       "      <td>5159.0</td>\n",
       "    </tr>\n",
       "  </tbody>\n",
       "</table>\n",
       "</div>"
      ],
      "text/plain": [
       "         date state  positive  negative  pending  hospitalized  death  total  \\\n",
       "24 2020-03-28    IL    3491.0   22000.0      NaN           NaN   47.0  25491   \n",
       "25 2020-03-29    IL    4596.0   23166.0      NaN           NaN   65.0  27762   \n",
       "26 2020-03-30    IL    5057.0   25389.0      NaN           NaN   73.0  30446   \n",
       "27 2020-03-31    IL    5994.0   29231.0      NaN           NaN   99.0  35225   \n",
       "28 2020-04-01    IL    6980.0   33404.0      NaN           NaN  141.0  40384   \n",
       "\n",
       "                                        hash           dateChecked  \\\n",
       "24  a874a1cfa1dfcafd1bb994844a8cf665e01089c3  2020-03-28T20:00:00Z   \n",
       "25  e6e6b00bdc70ca71fc14b3056568dfc40097d750  2020-03-29T20:00:00Z   \n",
       "26  db16bd0b1c0f9046c733f293408dbe1f719d965c  2020-03-30T20:00:00Z   \n",
       "27  6d3342d7069283e8be62943d22029dc73f176bf5  2020-03-31T20:00:00Z   \n",
       "28  e19ad5ef0b91b1b02a9e132a0e3f2c7d9b7a48a0  2020-04-01T20:00:00Z   \n",
       "\n",
       "    totalTestResults  fips  deathIncrease  hospitalizedIncrease  \\\n",
       "24             25491    17           13.0                   0.0   \n",
       "25             27762    17           18.0                   0.0   \n",
       "26             30446    17            8.0                   0.0   \n",
       "27             35225    17           26.0                   0.0   \n",
       "28             40384    17           42.0                   0.0   \n",
       "\n",
       "    negativeIncrease  positiveIncrease  totalTestResultsIncrease  \n",
       "24            3484.0             465.0                    3949.0  \n",
       "25            1166.0            1105.0                    2271.0  \n",
       "26            2223.0             461.0                    2684.0  \n",
       "27            3842.0             937.0                    4779.0  \n",
       "28            4173.0             986.0                    5159.0  "
      ]
     },
     "execution_count": 10,
     "metadata": {},
     "output_type": "execute_result"
    }
   ],
   "source": [
    "IL_data.tail()"
   ]
  },
  {
   "cell_type": "code",
   "execution_count": 11,
   "metadata": {
    "collapsed": false
   },
   "outputs": [],
   "source": [
    "# model fit for positive cases\n",
    "xdata=np.array(IL_data.index)[-10:]\n",
    "\n",
    "data_to_model=[\"positive\"]\n",
    "model_results=pd.DataFrame(index=data_to_model,columns=['a','b','c'])\n",
    "xdata=np.array(IL_data.index)[-10:]\n",
    "for item in data_to_model:\n",
    "    ydata=np.array(IL_data[item])[-10:]\n",
    "    \n",
    "    popt_exp, SSE_exp = SSE_curve(xdata,ydata,exp_func)\n",
    "    popt_quad,SSE_quad = SSE_curve(xdata,ydata,quad_func)\n",
    "    popt_lin,SSE_lin = SSE_curve(xdata,ydata,lin_func)\n",
    "    \n",
    "    min_error=min(SSE_exp,SSE_quad,SSE_lin)\n",
    "    \n",
    "    if min_error == SSE_exp:\n",
    "        model_results.loc[item,['a','b','c']]=popt_exp\n",
    "        model_results.loc[item,'model']='exp'\n",
    "    elif min_error == SSE_quad:\n",
    "        model_results.loc[item,['a','b','c']]=popt_quad\n",
    "        model_results.loc[item,'model']='quad'\n",
    "    elif min_error == SSE_lin:\n",
    "        model_results.loc[county,['a','b']]=popt_lin\n",
    "        model_results.loc[county,'model']='lin'"
   ]
  },
  {
   "cell_type": "code",
   "execution_count": 15,
   "metadata": {
    "collapsed": false
   },
   "outputs": [
    {
     "data": {
      "text/html": [
       "<div>\n",
       "<style scoped>\n",
       "    .dataframe tbody tr th:only-of-type {\n",
       "        vertical-align: middle;\n",
       "    }\n",
       "\n",
       "    .dataframe tbody tr th {\n",
       "        vertical-align: top;\n",
       "    }\n",
       "\n",
       "    .dataframe thead th {\n",
       "        text-align: right;\n",
       "    }\n",
       "</style>\n",
       "<table border=\"1\" class=\"dataframe\">\n",
       "  <thead>\n",
       "    <tr style=\"text-align: right;\">\n",
       "      <th></th>\n",
       "      <th>a</th>\n",
       "      <th>b</th>\n",
       "      <th>c</th>\n",
       "      <th>model</th>\n",
       "    </tr>\n",
       "  </thead>\n",
       "  <tbody>\n",
       "    <tr>\n",
       "      <th>positive</th>\n",
       "      <td>38.5758</td>\n",
       "      <td>-1175.64</td>\n",
       "      <td>9641.24</td>\n",
       "      <td>quad</td>\n",
       "    </tr>\n",
       "  </tbody>\n",
       "</table>\n",
       "</div>"
      ],
      "text/plain": [
       "                a        b        c model\n",
       "positive  38.5758 -1175.64  9641.24  quad"
      ]
     },
     "execution_count": 15,
     "metadata": {},
     "output_type": "execute_result"
    }
   ],
   "source": [
    "model_results"
   ]
  },
  {
   "cell_type": "code",
   "execution_count": 16,
   "metadata": {
    "collapsed": false
   },
   "outputs": [],
   "source": [
    "# Include all dates, even those with missing data\n",
    "xdata_full=np.array(range(len(dates)))\n",
    "xdata_pred=np.array(range(len(dates)))[-11:]"
   ]
  },
  {
   "cell_type": "code",
   "execution_count": 21,
   "metadata": {
    "collapsed": false
   },
   "outputs": [
    {
     "data": {
      "text/plain": [
       "array([19, 20, 21, 22, 23, 24, 25, 26, 27, 28, 29])"
      ]
     },
     "execution_count": 21,
     "metadata": {},
     "output_type": "execute_result"
    }
   ],
   "source": [
    "xdata_pred"
   ]
  },
  {
   "cell_type": "code",
   "execution_count": 17,
   "metadata": {
    "collapsed": true
   },
   "outputs": [],
   "source": [
    "#func use\n",
    "def function_use(county,model_results):\n",
    "    if model_results.loc[county][\"model\"]=='exp':\n",
    "        func_use=exp_func\n",
    "        opt_model = 'exponential'\n",
    "    elif model_results.loc[county][\"model\"]=='quad':\n",
    "        func_use=quad_func\n",
    "        opt_model = 'quadratic'\n",
    "    else:\n",
    "        func_use=lin_func\n",
    "        opt_model = 'linear'\n",
    "    return func_use, opt_model"
   ]
  },
  {
   "cell_type": "markdown",
   "metadata": {},
   "source": [
    "### Illinois model and dynamics"
   ]
  },
  {
   "cell_type": "code",
   "execution_count": 19,
   "metadata": {
    "collapsed": false
   },
   "outputs": [
    {
     "data": {
      "image/png": "[encoded data removed]",
      "text/plain": [
       "<Figure size 1080x720 with 1 Axes>"
      ]
     },
     "metadata": {},
     "output_type": "display_data"
    }
   ],
   "source": [
    "legend_elements =  [Line2D([0], [0], marker='+', color='red', label='Illinois', markersize=15)]\n",
    "\n",
    "popt_state = model_results.loc[\"positive\"][0:3]\n",
    "\n",
    "func_use, opt_model = function_use(\"positive\",model_results)\n",
    "\n",
    "plt.figure(figsize=(15,10))\n",
    "\n",
    "plt.plot(xdata_pred, func_use(xdata_pred, *popt_state), color='grey',linestyle='--');\n",
    "plt.scatter(IL_data.index,IL_data['positive'],color='red',marker='+');\n",
    "\n",
    "#plt.vlines(x=0, ymin=0, ymax=50,color='dimgrey', linewidth=0.5,linestyle='-.');\n",
    "#plt.text(0.4,40,\"[1]\",rotation=0,color='black',fontsize = 13,verticalalignment='center',horizontalalignment='center');\n",
    "\n",
    "plt.vlines(x=12, ymin=0, ymax=500,color='dimgrey', linewidth=0.5,linestyle='-.');\n",
    "plt.text(12.4,490,\"[1]\",rotation=0,color='black',fontsize = 13,verticalalignment='center',horizontalalignment='center');\n",
    "\n",
    "plt.vlines(x=16, ymin=0, ymax=1000,color='dimgrey', linewidth=0.5,linestyle='-.');\n",
    "plt.text(16.4,900,\"[2]\",rotation=0,color='black',fontsize = 13,verticalalignment='center',horizontalalignment='center');\n",
    "\n",
    "\n",
    "#plt.text(-0.7,360,\"[1] First cases in Maryland\",rotation=0,color='black',fontsize = 14,verticalalignment='center',horizontalalignment='left');\n",
    "#plt.text(-0.7,3600,\"[1] Schools close\",rotation=0,color='black',fontsize = 14,verticalalignment='center',horizontalalignment='left');\n",
    "#plt.text(-0.7,3400,\"[2] Stay at home order\",rotation=0,color='black',fontsize = 14,verticalalignment='center',horizontalalignment='left');\n",
    "\n",
    "sub=\"[1] Schools close; [2] Stay-at-home order\"\n",
    "plt.ylabel('# COVID cases',fontsize=15);\n",
    "plt.xticks(xdata_full, dates, rotation=45,fontsize=12)  \n",
    "plt.yticks(fontsize=12)\n",
    "plt.xlabel('Dates (2020)',fontsize=15)\n",
    "plt.legend(handles=legend_elements,fontsize=15,loc='upper left')\n",
    "plt.suptitle(\"COVID dynamics for Illinois\",fontsize=20);\n",
    "plt.title(sub, fontsize=13);\n",
    "   "
   ]
  },
  {
   "cell_type": "code",
   "execution_count": 20,
   "metadata": {
    "collapsed": false
   },
   "outputs": [
    {
     "name": "stdout",
     "output_type": "stream",
     "text": [
      "The best model for Illinois is the quadratic model.  Prediction for number of total cases for 04/02 is 9641.\n"
     ]
    }
   ],
   "source": [
    "# Predict next day's cases\n",
    "next_day = xdata_pred[-1]\n",
    "next_day_cases = exp_func(next_day, popt_state[0], popt_state[1], popt_state[2])\n",
    "print(f\"The best model for Illinois is the {opt_model} model.  Prediction for number of total cases for {tomorrow_label} is {int(next_day_cases)}.\")"
   ]
  },
  {
   "cell_type": "code",
   "execution_count": null,
   "metadata": {
    "collapsed": true
   },
   "outputs": [],
   "source": []
  }
 ],
 "metadata": {
  "kernelspec": {
   "display_name": "Python 3",
   "language": "python",
   "name": "python3"
  },
  "language_info": {
   "codemirror_mode": {
    "name": "ipython",
    "version": 3
   },
   "file_extension": ".py",
   "mimetype": "text/x-python",
   "name": "python",
   "nbconvert_exporter": "python",
   "pygments_lexer": "ipython3",
   "version": "3.6.8"
  },
  "varInspector": {
   "cols": {
    "lenName": 16,
    "lenType": 16,
    "lenVar": 40
   },
   "kernels_config": {
    "python": {
     "delete_cmd_postfix": "",
     "delete_cmd_prefix": "del ",
     "library": "var_list.py",
     "varRefreshCmd": "print(var_dic_list())"
    },
    "r": {
     "delete_cmd_postfix": ") ",
     "delete_cmd_prefix": "rm(",
     "library": "var_list.r",
     "varRefreshCmd": "cat(var_dic_list()) "
    }
   },
   "position": {
    "height": "144px",
    "left": "902.997px",
    "right": "20px",
    "top": "670.997px",
    "width": "350px"
   },
   "types_to_exclude": [
    "module",
    "function",
    "builtin_function_or_method",
    "instance",
    "_Feature"
   ],
   "window_display": true
  }
 },
 "nbformat": 4,
 "nbformat_minor": 2
}
